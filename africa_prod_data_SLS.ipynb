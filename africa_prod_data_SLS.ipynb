{
 "cells": [
  {
   "cell_type": "code",
   "execution_count": 21,
   "metadata": {},
   "outputs": [],
   "source": [
    "import pandas as pd\n",
    "import numpy as np\n",
    "import matplotlib\n",
    "import matplotlib.pyplot as plt"
   ]
  },
  {
   "cell_type": "code",
   "execution_count": 22,
   "metadata": {},
   "outputs": [],
   "source": [
    "df_algeria = pd.read_csv('/Users/sebastianlorenzen-schmidt/neuefische/capstone_project/data/energy_prod_africa/Algeria_1900-2016_(in_TWh).csv', delimiter = ';')\n",
    "df_algeria['country'] = 'Algeria'\n",
    "\n",
    "df_angola = pd.read_csv('/Users/sebastianlorenzen-schmidt/neuefische/capstone_project/data/energy_prod_africa/Angola_1900-2016_(in _TWh).csv', delimiter = ';')\n",
    "df_benin = pd.read_csv('/Users/sebastianlorenzen-schmidt/neuefische/capstone_project/data/energy_prod_africa/Benin_1980-2016_(in_TWh).csv', delimiter = ';')\n",
    "df_botswana = pd.read_csv('/Users/sebastianlorenzen-schmidt/neuefische/capstone_project/data/energy_prod_africa/Botswana_1900-2016_(in_TWh).csv', delimiter = ';')\n",
    "df_burkina_faso = pd.read_csv('/Users/sebastianlorenzen-schmidt/neuefische/capstone_project/data/energy_prod_africa/Burkina_Faso_1980-2016_(in_TWh).csv', delimiter = ';')"
   ]
  },
  {
   "cell_type": "code",
   "execution_count": 23,
   "metadata": {},
   "outputs": [
    {
     "name": "stdout",
     "output_type": "stream",
     "text": [
      "<class 'pandas.core.frame.DataFrame'>\n",
      "RangeIndex: 117 entries, 0 to 116\n",
      "Data columns (total 14 columns):\n",
      " #   Column                        Non-Null Count  Dtype  \n",
      "---  ------                        --------------  -----  \n",
      " 0   Unnamed: 0                    117 non-null    object \n",
      " 1   Oil                           117 non-null    object \n",
      " 2   Coal                          117 non-null    object \n",
      " 3   Gas                           117 non-null    object \n",
      " 4   Hydroelectricity              37 non-null     object \n",
      " 5   Nuclear                       37 non-null     float64\n",
      " 6   Biomass and Waste             37 non-null     float64\n",
      " 7   Wind                          37 non-null     object \n",
      " 8   Fuel Ethanol                  37 non-null     float64\n",
      " 9   Peat                          0 non-null      float64\n",
      " 10  Geothermal                    37 non-null     float64\n",
      " 11  Solar, Tide, Wave, Fuel Cell  37 non-null     object \n",
      " 12  Biodiesel                     17 non-null     float64\n",
      " 13  country                       117 non-null    object \n",
      "dtypes: float64(6), object(8)\n",
      "memory usage: 12.9+ KB\n"
     ]
    }
   ],
   "source": [
    "df_algeria.info()"
   ]
  },
  {
   "cell_type": "code",
   "execution_count": 25,
   "metadata": {},
   "outputs": [],
   "source": [
    "file_names = ['/Users/sebastianlorenzen-schmidt/neuefische/capstone_project/data/energy_prod_africa/Algeria_1900-2016_(in_TWh).csv',\n",
    "'/Users/sebastianlorenzen-schmidt/neuefische/capstone_project/data/energy_prod_africa/Angola_1900-2016_(in _TWh).csv',\n",
    "'/Users/sebastianlorenzen-schmidt/neuefische/capstone_project/data/energy_prod_africa/Benin_1980-2016_(in_TWh).csv',\n",
    "'/Users/sebastianlorenzen-schmidt/neuefische/capstone_project/data/energy_prod_africa/Botswana_1900-2016_(in_TWh).csv',\n",
    "'/Users/sebastianlorenzen-schmidt/neuefische/capstone_project/data/energy_prod_africa/Burkina_Faso_1980-2016_(in_TWh).csv',\n",
    "'/Users/sebastianlorenzen-schmidt/neuefische/capstone_project/data/energy_prod_africa/Burundi_1900-2016_(in_TWh).csv',\n",
    "'/Users/sebastianlorenzen-schmidt/neuefische/capstone_project/data/energy_prod_africa/Cameroon_1900-2016_(in_TWh).csv',\n",
    "'/Users/sebastianlorenzen-schmidt/neuefische/capstone_project/data/energy_prod_africa/Cape_Verde_1980-2016_(in _TWh).csv',\n",
    "'/Users/sebastianlorenzen-schmidt/neuefische/capstone_project/data/energy_prod_africa/Central_African_Republic_1980-2016_(in_TWh).csv',\n",
    "'/Users/sebastianlorenzen-schmidt/neuefische/capstone_project/data/energy_prod_africa/Chad_1980-2016_(in_TWh).csv',\n",
    "'/Users/sebastianlorenzen-schmidt/neuefische/capstone_project/data/energy_prod_africa/Congo_1900-2016_(in_TWh).csv',\n",
    "'/Users/sebastianlorenzen-schmidt/neuefische/capstone_project/data/energy_prod_africa/Djibouti_1980-2016_(in_TWh).csv',\n",
    "'/Users/sebastianlorenzen-schmidt/neuefische/capstone_project/data/energy_prod_africa/Egypt_1900-2016_(in_TWh).csv',\n",
    "'/Users/sebastianlorenzen-schmidt/neuefische/capstone_project/data/energy_prod_africa/Equatorial_Guinea_1980-2016_(in_TWh).csv',\n",
    "'/Users/sebastianlorenzen-schmidt/neuefische/capstone_project/data/energy_prod_africa/Eritrea_1994-2016_(in_TWh).csv',\n",
    "'/Users/sebastianlorenzen-schmidt/neuefische/capstone_project/data/energy_prod_africa/Ethiopia_1980-2016_(in_TWh).csv',\n",
    "'/Users/sebastianlorenzen-schmidt/neuefische/capstone_project/data/energy_prod_africa/Gabon_1900-2016_(in_TWh).csv',\n",
    "'/Users/sebastianlorenzen-schmidt/neuefische/capstone_project/data/energy_prod_africa/Gambia_1980-2016_(in_TWh).csv',\n",
    "'/Users/sebastianlorenzen-schmidt/neuefische/capstone_project/data/energy_prod_africa/Ghana_1900-2016_(in_TWh).csv',\n",
    "'/Users/sebastianlorenzen-schmidt/neuefische/capstone_project/data/energy_prod_africa/Guinea_1980-2016_(in_TWh).csv',\n",
    "'/Users/sebastianlorenzen-schmidt/neuefische/capstone_project/data/energy_prod_africa/Guinea-Bissau_1980-2016_(in_TWh).csv',\n",
    "'/Users/sebastianlorenzen-schmidt/neuefische/capstone_project/data/energy_prod_africa/Ivory_Coast_1900-2016_(in_TWh).csv',\n",
    "'/Users/sebastianlorenzen-schmidt/neuefische/capstone_project/data/energy_prod_africa/Kenya_1900-2016_(in_TWh).csv',\n",
    "'/Users/sebastianlorenzen-schmidt/neuefische/capstone_project/data/energy_prod_africa/Lesotho_1980-2016_(in_TWh).csv',\n",
    "'/Users/sebastianlorenzen-schmidt/neuefische/capstone_project/data/energy_prod_africa/Liberia_1980-2016_(in_TWh).csv',\n",
    "',/Users/sebastianlorenzen-schmidt/neuefische/capstone_project/data/energy_prod_africa/Libya_1900-2016_(in_TWh).csv',\n",
    "'/Users/sebastianlorenzen-schmidt/neuefische/capstone_project/data/energy_prod_africa/Madagascar_1900-2016_(in_TWh).csv',\n",
    "'/Users/sebastianlorenzen-schmidt/neuefische/capstone_project/data/energy_prod_africa/Malawi_1980-2016_(in_TWh).csv',\n",
    "'/Users/sebastianlorenzen-schmidt/neuefische/capstone_project/data/energy_prod_africa/Mali_1980-2016_(in_TWh).csv',\n",
    "'/Users/sebastianlorenzen-schmidt/neuefische/capstone_project/data/energy_prod_africa/Mauritania_1980-2016_(in_TWh).csv',\n",
    "'/Users/sebastianlorenzen-schmidt/neuefische/capstone_project/data/energy_prod_africa/Mauritius_1980-2016_(in_TWh).csv',\n",
    "'/Users/sebastianlorenzen-schmidt/neuefische/capstone_project/data/energy_prod_africa/Morocco_1900-2016_(in_TWh).csv',\n",
    "'/Users/sebastianlorenzen-schmidt/neuefische/capstone_project/data/energy_prod_africa/Mozambique_1900-2016_(in_TWh).csv',\n",
    "'/Users/sebastianlorenzen-schmidt/neuefische/capstone_project/data/energy_prod_africa/Namibia_1990-2016_(in_TWh).csv',\n",
    "'/Users/sebastianlorenzen-schmidt/neuefische/capstone_project/data/energy_prod_africa/Niger_1900-2016_(in_TWh).csv',\n",
    "'/Users/sebastianlorenzen-schmidt/neuefische/capstone_project/data/energy_prod_africa/Nigeria_1900-2016_(in_TWh).csv',\n",
    "'/Users/sebastianlorenzen-schmidt/neuefische/capstone_project/data/energy_prod_africa/Rwanda_1980-2016_(in_TWh).csv',\n",
    "'/Users/sebastianlorenzen-schmidt/neuefische/capstone_project/data/energy_prod_africa/Sao_Tome_and_Principe_1980-2016_(in–TWh).csv',\n",
    "'/Users/sebastianlorenzen-schmidt/neuefische/capstone_project/data/energy_prod_africa/Senegal_1980-2016_(in_TWh).csv',\n",
    "'/Users/sebastianlorenzen-schmidt/neuefische/capstone_project/data/energy_prod_africa/Seychelles_1980-2016_(in_TWh).csv',\n",
    "'/Users/sebastianlorenzen-schmidt/neuefische/capstone_project/data/energy_prod_africa/Sierra_Leone_1980-2016_(in_TWh).csv',\n",
    "'/Users/sebastianlorenzen-schmidt/neuefische/capstone_project/data/energy_prod_africa/Somalia_1980-2016_(in_TWh).csv',\n",
    "'/Users/sebastianlorenzen-schmidt/neuefische/capstone_project/data/energy_prod_africa/South Sudan, 2012-2016 (in TWh).csv',\n",
    "'/Users/sebastianlorenzen-schmidt/neuefische/capstone_project/data/energy_prod_africa/South_Africa_1900-2016_(in_TWh).csv',\n",
    "'/Users/sebastianlorenzen-schmidt/neuefische/capstone_project/data/energy_prod_africa/Sudan_1980-2016_(in_TWh).csv',\n",
    "'/Users/sebastianlorenzen-schmidt/neuefische/capstone_project/data/energy_prod_africa/Swaziland_1900-2016_(in_TWh).csv',\n",
    "'/Users/sebastianlorenzen-schmidt/neuefische/capstone_project/data/energy_prod_africa/Tanzania_1900-2016_(in_TWh).csv',\n",
    "'/Users/sebastianlorenzen-schmidt/neuefische/capstone_project/data/energy_prod_africa/Togo_1980-2016_(in_TWh).csv',\n",
    "'/Users/sebastianlorenzen-schmidt/neuefische/capstone_project/data/energy_prod_africa/Tunisia_1900-2016_(in_TWh).csv',\n",
    "'/Users/sebastianlorenzen-schmidt/neuefische/capstone_project/data/energy_prod_africa/Uganda_1900-2016_(in_TWh).csv',\n",
    "'/Users/sebastianlorenzen-schmidt/neuefische/capstone_project/data/energy_prod_africa/Zambia_1900-2016_(in_TWh).csv',\n",
    "'/Users/sebastianlorenzen-schmidt/neuefische/capstone_project/data/energy_prod_africa/Zimbabwe_1900-2016_(in_TWh).csv']"
   ]
  },
  {
   "cell_type": "code",
   "execution_count": 24,
   "metadata": {},
   "outputs": [],
   "source": [
    "countries= ['Algeria','Angola''Benin',\n",
    "            'Botswana','Burkina Faso','Burundi','Cape Verde',\n",
    "            'Cameroon','Central African Republic','Chad',\n",
    "            'Comoros','Ivory Coast','Congo',\n",
    "            'Djibouti','Egypt','Eritrea',\n",
    "            'Eswatini','Ethiopia','Gabon',\n",
    "            'Gambia','Ghana','Guinea',\n",
    "            'Guinea-Bissau','Kenya','Lesotho',\n",
    "            'Liberia','Libya','Madagascar',\n",
    "            'Malawi','Mali','Mauritania',\n",
    "            'Mauritius','Morocco','Mozambique',\n",
    "            'Namibia','Niger','Nigeria',\n",
    "            'Rwanda','São_Tomé_and_Príncipe','Senegal',\n",
    "            'Seychelles','Sierra_Leone','Somalia',\n",
    "            'South-Africa','South_Sudan','Sudan',\n",
    "            'Tanzania','Togo','Tunisia',\n",
    "            'Uganda','Zambia','Zimbabwe']\n"
   ]
  }
 ],
 "metadata": {
  "interpreter": {
   "hash": "ab3d85a18739f6fff6a9c8c504adc2ff9340867b576dede986e2ee74c099e4e5"
  },
  "kernelspec": {
   "display_name": "Python 3.9.10 ('nf_base')",
   "language": "python",
   "name": "python3"
  },
  "language_info": {
   "codemirror_mode": {
    "name": "ipython",
    "version": 3
   },
   "file_extension": ".py",
   "mimetype": "text/x-python",
   "name": "python",
   "nbconvert_exporter": "python",
   "pygments_lexer": "ipython3",
   "version": "3.9.10"
  },
  "orig_nbformat": 4
 },
 "nbformat": 4,
 "nbformat_minor": 2
}
